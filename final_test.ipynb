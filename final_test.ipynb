{
 "cells": [
  {
   "cell_type": "code",
   "execution_count": 1,
   "metadata": {},
   "outputs": [],
   "source": [
    "import vanna\n",
    "from vanna.remote import VannaDefault"
   ]
  },
  {
   "cell_type": "code",
   "execution_count": 2,
   "metadata": {},
   "outputs": [],
   "source": [
    "api_key = 'cd9fdfebd6bc49dd8d68c1a971fa648f'# Your API key from https://vanna.ai/account/profile'' \n",
    "\n",
    "vanna_model_name = 'testmodel006'# Your model name from https://vanna.ai/account/profile \n",
    "vn = VannaDefault(model=vanna_model_name, api_key=api_key)"
   ]
  },
  {
   "cell_type": "code",
   "execution_count": 3,
   "metadata": {},
   "outputs": [],
   "source": [
    "vn.connect_to_mysql(host='127.0.0.1', dbname='testjson_11', user='root', password='root', port=3306)"
   ]
  },
  {
   "cell_type": "code",
   "execution_count": 4,
   "metadata": {},
   "outputs": [],
   "source": [
    "# Step 2: Query tables (ensure these table names match your DB)\n",
    "df_tablecleaned = vn.run_sql(\"SELECT * FROM table_cleaned\")\n",
    "#df_table2 = vn.run_sql(\"SELECT * FROM table_2\")\n",
    "#df_table3 = vn.run_sql(\"SELECT * FROM table_3\")\n",
    "#df_table4 = vn.run_sql(\"SELECT * FROM table_4\")"
   ]
  },
  {
   "cell_type": "code",
   "execution_count": 5,
   "metadata": {},
   "outputs": [],
   "source": [
    "# The information schema query may need some tweaking depending on your database. This is a good starting point.\n",
    "df_information_schema = vn.run_sql(\"SELECT * FROM INFORMATION_SCHEMA.COLUMNS WHERE TABLE_SCHEMA='testjson_11' AND TABLE_NAME = 'table_cleaned'\")"
   ]
  },
  {
   "cell_type": "code",
   "execution_count": 6,
   "metadata": {},
   "outputs": [],
   "source": [
    "# This will break up the information schema into bite-sized chunks that can be referenced by the LLM\n",
    "plan = vn.get_training_plan_generic(df_information_schema)\n",
    "plan\n",
    "\n",
    "# If you like the plan, then uncomment this and run it to train\n",
    "vn.train(plan=plan)"
   ]
  },
  {
   "cell_type": "code",
   "execution_count": 7,
   "metadata": {},
   "outputs": [
    {
     "name": "stdout",
     "output_type": "stream",
     "text": [
      "Adding ddl: \n",
      "CREATE TABLE table_cleaned (\n",
      "    Metrics VARCHAR(255) NOT NULL CHECK (\n",
      "        Metrics IN ('Cash & Equivalents', 'Short-Term Investments', 'Cash & Short-Term Investments', 'Cash Growth', \n",
      "                    'Accounts Receivable', 'Other Receivables', 'Receivables', 'Inventory', 'Restricted Cash', \n",
      "                    'Other Current Assets', 'Total Current Assets', 'Property, Plant & Equipment', 'Long-Term Investments', \n",
      "                    'Long-Term Deferred Tax Assets', 'Other Long-Term Assets', 'Total Assets', 'Accounts Payable', \n",
      "                    'Short-Term Debt', 'Current Portion of Long-Term Debt', 'Current Portion of Leases', \n",
      "                    'Current Income Taxes Payable', 'Current Unearned Revenue', 'Other Current Liabilities', \n",
      "                    'Total Current Liabilities', 'Long-Term Debt', 'Long-Term Leases', 'Other Long-Term Liabilities', \n",
      "                    'Total Liabilities', 'Common Stock', 'Retained Earnings', 'Comprehensive Income & Other', \n",
      "                    'Shareholders' Equity', 'Total Liabilities & Equity', 'Total Debt', 'Net Cash (Debt)', 'Net Cash Growth', \n",
      "                    'Net Cash Per Share', 'Filing Date Shares Outstanding', 'Total Common Shares Outstanding', 'Working Capital', \n",
      "                    'Book Value Per Share', 'Tangible Book Value', 'Tangible Book Value Per Share', 'Land', 'Machinery', \n",
      "                    'Leasehold Improvements')\n",
      "    ) COMMENT 'Categorical column: Filters specific financial metrics',\n",
      "    \n",
      "    Q4_2024 DECIMAL(15,4),\n",
      "    Q3_2024 DECIMAL(15,4),\n",
      "    Q2_2024 DECIMAL(15,4),\n",
      "    Q1_2024 DECIMAL(15,4),\n",
      "    Q4_2023 DECIMAL(15,4),\n",
      "    Q3_2023 DECIMAL(15,4),\n",
      "    Q2_2023 DECIMAL(15,4),\n",
      "    Q1_2023 DECIMAL(15,4),\n",
      "    Q4_2022 DECIMAL(15,4),\n",
      "    Q3_2022 DECIMAL(15,4),\n",
      "    Q2_2022 DECIMAL(15,4),\n",
      "    Q1_2022 DECIMAL(15,4),\n",
      "    Q4_2021 DECIMAL(15,4),\n",
      "    Q3_2021 DECIMAL(15,4),\n",
      "    Q2_2021 DECIMAL(15,4),\n",
      "    Q1_2021 DECIMAL(15,4)\n",
      ");\n",
      "\n"
     ]
    },
    {
     "data": {
      "text/plain": [
       "'476493-ddl'"
      ]
     },
     "execution_count": 7,
     "metadata": {},
     "output_type": "execute_result"
    }
   ],
   "source": [
    "# DDL statements are powerful because they specify table names, colume names, types, and potentially relationships\n",
    "vn.train(ddl=\"\"\"\n",
    "CREATE TABLE table_cleaned (\n",
    "    Metrics VARCHAR(255) NOT NULL CHECK (\n",
    "        Metrics IN ('Cash & Equivalents', 'Short-Term Investments', 'Cash & Short-Term Investments', 'Cash Growth', \n",
    "                    'Accounts Receivable', 'Other Receivables', 'Receivables', 'Inventory', 'Restricted Cash', \n",
    "                    'Other Current Assets', 'Total Current Assets', 'Property, Plant & Equipment', 'Long-Term Investments', \n",
    "                    'Long-Term Deferred Tax Assets', 'Other Long-Term Assets', 'Total Assets', 'Accounts Payable', \n",
    "                    'Short-Term Debt', 'Current Portion of Long-Term Debt', 'Current Portion of Leases', \n",
    "                    'Current Income Taxes Payable', 'Current Unearned Revenue', 'Other Current Liabilities', \n",
    "                    'Total Current Liabilities', 'Long-Term Debt', 'Long-Term Leases', 'Other Long-Term Liabilities', \n",
    "                    'Total Liabilities', 'Common Stock', 'Retained Earnings', 'Comprehensive Income & Other', \n",
    "                    'Shareholders\\' Equity', 'Total Liabilities & Equity', 'Total Debt', 'Net Cash (Debt)', 'Net Cash Growth', \n",
    "                    'Net Cash Per Share', 'Filing Date Shares Outstanding', 'Total Common Shares Outstanding', 'Working Capital', \n",
    "                    'Book Value Per Share', 'Tangible Book Value', 'Tangible Book Value Per Share', 'Land', 'Machinery', \n",
    "                    'Leasehold Improvements')\n",
    "    ) COMMENT 'Categorical column: Filters specific financial metrics',\n",
    "    \n",
    "    Q4_2024 DECIMAL(15,4),\n",
    "    Q3_2024 DECIMAL(15,4),\n",
    "    Q2_2024 DECIMAL(15,4),\n",
    "    Q1_2024 DECIMAL(15,4),\n",
    "    Q4_2023 DECIMAL(15,4),\n",
    "    Q3_2023 DECIMAL(15,4),\n",
    "    Q2_2023 DECIMAL(15,4),\n",
    "    Q1_2023 DECIMAL(15,4),\n",
    "    Q4_2022 DECIMAL(15,4),\n",
    "    Q3_2022 DECIMAL(15,4),\n",
    "    Q2_2022 DECIMAL(15,4),\n",
    "    Q1_2022 DECIMAL(15,4),\n",
    "    Q4_2021 DECIMAL(15,4),\n",
    "    Q3_2021 DECIMAL(15,4),\n",
    "    Q2_2021 DECIMAL(15,4),\n",
    "    Q1_2021 DECIMAL(15,4)\n",
    ");\n",
    "\"\"\")"
   ]
  },
  {
   "cell_type": "code",
   "execution_count": 8,
   "metadata": {},
   "outputs": [
    {
     "name": "stdout",
     "output_type": "stream",
     "text": [
      "Question generated with sql: What is the quarter-over-quarter difference in accounts receivable for Q4 2024 compared to Q3 2024? \n",
      "Adding SQL...\n"
     ]
    },
    {
     "data": {
      "text/plain": [
       "'a710380f53acd59fbd6ada9f3d311a8c-sql'"
      ]
     },
     "execution_count": 8,
     "metadata": {},
     "output_type": "execute_result"
    }
   ],
   "source": [
    "# You can also add SQL queries to your training data. This is useful if you have some queries already laying around. You can just copy and paste those from your editor to begin generating new SQL.\n",
    "vn.train(sql=\"SELECT (Q4_2024 - Q3_2024) AS Difference_Accounts_Receivable FROM FinancialData WHERE Metrics = 'Accounts Receivable';\")"
   ]
  },
  {
   "cell_type": "code",
   "execution_count": 9,
   "metadata": {},
   "outputs": [
    {
     "name": "stdout",
     "output_type": "stream",
     "text": [
      "Your app is running at:\n",
      "http://localhost:8084\n",
      " * Serving Flask app 'vanna.flask'\n",
      " * Debug mode: on\n",
      "None\n",
      "None\n",
      "None\n",
      "None\n",
      "None\n",
      "None\n"
     ]
    }
   ],
   "source": [
    "from vanna.flask import VannaFlaskApp\n",
    "app = VannaFlaskApp(vn)\n",
    "app.run()"
   ]
  }
 ],
 "metadata": {
  "kernelspec": {
   "display_name": "Python 3",
   "language": "python",
   "name": "python3"
  },
  "language_info": {
   "codemirror_mode": {
    "name": "ipython",
    "version": 3
   },
   "file_extension": ".py",
   "mimetype": "text/x-python",
   "name": "python",
   "nbconvert_exporter": "python",
   "pygments_lexer": "ipython3",
   "version": "3.12.8"
  }
 },
 "nbformat": 4,
 "nbformat_minor": 2
}
